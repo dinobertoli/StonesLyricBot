{
  "nbformat": 4,
  "nbformat_minor": 0,
  "metadata": {
    "colab": {
      "provenance": [],
      "authorship_tag": "ABX9TyNWpxg29paIlrkA5hOVTHv7",
      "include_colab_link": true
    },
    "kernelspec": {
      "display_name": "Python 3",
      "name": "python3"
    },
    "language_info": {
      "name": "python"
    }
  },
  "cells": [
    {
      "cell_type": "markdown",
      "metadata": {
        "id": "view-in-github",
        "colab_type": "text"
      },
      "source": [
        "<a href=\"https://colab.research.google.com/github/dinobertoli/StonesLyricBot/blob/main/StonesLyricsBot.ipynb\" target=\"_parent\"><img src=\"https://colab.research.google.com/assets/colab-badge.svg\" alt=\"Open In Colab\"/></a>"
      ]
    },
    {
      "cell_type": "code",
      "metadata": {
        "colab": {
          "base_uri": "https://localhost:8080/"
        },
        "id": "SD3u_2vixa_K",
        "outputId": "080514d3-8874-45ce-82b2-97785cbfac05"
      },
      "source": [
        "pip install markovify"
      ],
      "execution_count": null,
      "outputs": [
        {
          "output_type": "stream",
          "name": "stdout",
          "text": [
            "Collecting markovify\n",
            "  Downloading markovify-0.9.3.tar.gz (28 kB)\n",
            "Collecting unidecode\n",
            "  Downloading Unidecode-1.3.3-py3-none-any.whl (235 kB)\n",
            "\u001b[K     |████████████████████████████████| 235 kB 7.3 MB/s \n",
            "\u001b[?25hBuilding wheels for collected packages: markovify\n",
            "  Building wheel for markovify (setup.py) ... \u001b[?25l\u001b[?25hdone\n",
            "  Created wheel for markovify: filename=markovify-0.9.3-py3-none-any.whl size=18622 sha256=c574dafed6d84f061e13753129b60b92070d288eb28f31a02b3acf963ace7686\n",
            "  Stored in directory: /root/.cache/pip/wheels/d9/f0/5b/748a27bdf2496bd4df51acb9442dae516efce507ff4849813e\n",
            "Successfully built markovify\n",
            "Installing collected packages: unidecode, markovify\n",
            "Successfully installed markovify-0.9.3 unidecode-1.3.3\n"
          ]
        }
      ]
    },
    {
      "cell_type": "code",
      "metadata": {
        "colab": {
          "base_uri": "https://localhost:8080/"
        },
        "id": "_q9XJB8xxjru",
        "outputId": "4c4ecafc-3780-42a1-8c3a-c168c9dd69f2"
      },
      "source": [
        "pip install twython"
      ],
      "execution_count": null,
      "outputs": [
        {
          "output_type": "stream",
          "name": "stdout",
          "text": [
            "Collecting twython\n",
            "  Downloading twython-3.9.1-py3-none-any.whl (33 kB)\n",
            "Requirement already satisfied: requests>=2.1.0 in /usr/local/lib/python3.7/dist-packages (from twython) (2.23.0)\n",
            "Requirement already satisfied: requests-oauthlib>=0.4.0 in /usr/local/lib/python3.7/dist-packages (from twython) (1.3.1)\n",
            "Requirement already satisfied: chardet<4,>=3.0.2 in /usr/local/lib/python3.7/dist-packages (from requests>=2.1.0->twython) (3.0.4)\n",
            "Requirement already satisfied: certifi>=2017.4.17 in /usr/local/lib/python3.7/dist-packages (from requests>=2.1.0->twython) (2021.10.8)\n",
            "Requirement already satisfied: urllib3!=1.25.0,!=1.25.1,<1.26,>=1.21.1 in /usr/local/lib/python3.7/dist-packages (from requests>=2.1.0->twython) (1.24.3)\n",
            "Requirement already satisfied: idna<3,>=2.5 in /usr/local/lib/python3.7/dist-packages (from requests>=2.1.0->twython) (2.10)\n",
            "Requirement already satisfied: oauthlib>=3.0.0 in /usr/local/lib/python3.7/dist-packages (from requests-oauthlib>=0.4.0->twython) (3.2.0)\n",
            "Installing collected packages: twython\n",
            "Successfully installed twython-3.9.1\n"
          ]
        }
      ]
    },
    {
      "cell_type": "code",
      "metadata": {
        "id": "kPv2MxlpXWmW"
      },
      "source": [
        "#@title \n",
        "consumer_key        = ___\n",
        "consumer_secret     = ___\n",
        "access_token        = ___\n",
        "access_token_secret = ___"
      ],
      "execution_count": 1,
      "outputs": []
    },
    {
      "cell_type": "code",
      "metadata": {
        "id": "KBCXHDawG0zL",
        "colab": {
          "base_uri": "https://localhost:8080/",
          "height": 374
        },
        "outputId": "e6080967-5fbb-4b64-b4d9-711c9330b1b0"
      },
      "source": [
        "import markovify\n",
        "from twython import Twython\n",
        "\n",
        "#sync with twitter\n",
        "twitter = Twython(\n",
        "    consumer_key,\n",
        "    consumer_secret,\n",
        "    access_token,\n",
        "    access_token_secret\n",
        ")\n",
        "\n",
        "#mount drive to access song lyrics\n",
        "from google.colab import drive\n",
        "drive.mount('/content/drive')\n",
        "\n",
        "#open and store song lyrics\n",
        "text = open(\"/content/drive/MyDrive/Rolling Stones Lyrics.txt\")\n",
        "\n",
        "# Build the model.\n",
        "text_model = markovify.Text(text, state_size= 2)\n",
        "\n",
        "#generates # of lyric lines passed in \"lines\"\n",
        "#returns generated lyrics as string\n",
        "def generateLyrics(lines, string):\n",
        "  for i in range(lines):\n",
        "    string += (text_model.make_short_sentence(350) + '\\n')\n",
        "  return string\n",
        "\n",
        "#Generates lyrics and adds hasstags\n",
        "#returns and prints tweet\n",
        "def makeTweet():\n",
        "  message = \"\"\n",
        "  message = generateLyrics(5, message)\n",
        "  #twitter.update_status(status=message)\n",
        "  message += \"#RollingStones #ClassicRock\"\n",
        "  print(\"Tweet will read: %s\" % message)\n",
        "  return message"
      ],
      "execution_count": null,
      "outputs": [
        {
          "output_type": "error",
          "ename": "ModuleNotFoundError",
          "evalue": "ignored",
          "traceback": [
            "\u001b[0;31m---------------------------------------------------------------------------\u001b[0m",
            "\u001b[0;31mModuleNotFoundError\u001b[0m                       Traceback (most recent call last)",
            "\u001b[0;32m<ipython-input-1-e9804945991c>\u001b[0m in \u001b[0;36m<module>\u001b[0;34m\u001b[0m\n\u001b[0;32m----> 1\u001b[0;31m \u001b[0;32mimport\u001b[0m \u001b[0mmarkovify\u001b[0m\u001b[0;34m\u001b[0m\u001b[0;34m\u001b[0m\u001b[0m\n\u001b[0m\u001b[1;32m      2\u001b[0m \u001b[0;32mfrom\u001b[0m \u001b[0mtwython\u001b[0m \u001b[0;32mimport\u001b[0m \u001b[0mTwython\u001b[0m\u001b[0;34m\u001b[0m\u001b[0;34m\u001b[0m\u001b[0m\n\u001b[1;32m      3\u001b[0m \u001b[0;34m\u001b[0m\u001b[0m\n\u001b[1;32m      4\u001b[0m \u001b[0;31m#sync with twitter\u001b[0m\u001b[0;34m\u001b[0m\u001b[0;34m\u001b[0m\u001b[0;34m\u001b[0m\u001b[0m\n\u001b[1;32m      5\u001b[0m twitter = Twython(\n",
            "\u001b[0;31mModuleNotFoundError\u001b[0m: No module named 'markovify'",
            "",
            "\u001b[0;31m---------------------------------------------------------------------------\u001b[0;32m\nNOTE: If your import is failing due to a missing package, you can\nmanually install dependencies using either !pip or !apt.\n\nTo view examples of installing some common dependencies, click the\n\"Open Examples\" button below.\n\u001b[0;31m---------------------------------------------------------------------------\u001b[0m\n"
          ],
          "errorDetails": {
            "actions": [
              {
                "action": "open_url",
                "actionText": "Open Examples",
                "url": "/notebooks/snippets/importing_libraries.ipynb"
              }
            ]
          }
        }
      ]
    },
    {
      "cell_type": "code",
      "metadata": {
        "colab": {
          "base_uri": "https://localhost:8080/"
        },
        "id": "RUc5AsSHgYk1",
        "outputId": "d6220a50-60e4-4abc-d392-37ad1f655c22"
      },
      "source": [
        "#Create new tweet\n",
        "tweet = makeTweet()\n",
        "\n",
        "#publish tweet if good lyrics are generated\n",
        "print(\"do you want to publsih this tweet? (y/n)\")\n",
        "publish = input()\n",
        "if publish == \"y\":\n",
        "  twitter.update_status(status=tweet)\n",
        "  print(\"Tweet published\")"
      ],
      "execution_count": null,
      "outputs": [
        {
          "output_type": "stream",
          "text": [
            "Tweet will read: A glass of wine in her skull was burning like coals\n",
            "Well, I am just a monkey woman too, babe\n",
            "I salivate like a black girl should\n",
            "I want is you to make love to play the blues\n",
            "At her feet was a tent show queen\n",
            "#RollingStones #ClassicRock\n",
            "do you want to publsih this tweet? (y/n)\n",
            "y\n",
            "Tweet published\n"
          ],
          "name": "stdout"
        }
      ]
    }
  ]
}