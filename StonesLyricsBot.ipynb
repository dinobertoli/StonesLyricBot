{
  "nbformat": 4,
  "nbformat_minor": 0,
  "metadata": {
    "colab": {
      "provenance": [],
      "authorship_tag": "ABX9TyMu5Luomix9z6kBv5Ck6O+d",
      "include_colab_link": true
    },
    "kernelspec": {
      "display_name": "Python 3",
      "name": "python3"
    },
    "language_info": {
      "name": "python"
    }
  },
  "cells": [
    {
      "cell_type": "markdown",
      "metadata": {
        "id": "view-in-github",
        "colab_type": "text"
      },
      "source": [
        "<a href=\"https://colab.research.google.com/github/dinobertoli/StonesLyricBot/blob/main/StonesLyricsBot.ipynb\" target=\"_parent\"><img src=\"https://colab.research.google.com/assets/colab-badge.svg\" alt=\"Open In Colab\"/></a>"
      ]
    },
    {
      "cell_type": "code",
      "metadata": {
        "colab": {
          "base_uri": "https://localhost:8080/"
        },
        "id": "SD3u_2vixa_K",
        "outputId": "b3c5d214-736f-4d86-8f95-2ea7fb6a367f"
      },
      "source": [
        "pip install markovify"
      ],
      "execution_count": null,
      "outputs": [
        {
          "output_type": "stream",
          "text": [
            "Requirement already satisfied: markovify in /usr/local/lib/python3.7/dist-packages (0.9.0)\n",
            "Requirement already satisfied: unidecode in /usr/local/lib/python3.7/dist-packages (from markovify) (1.2.0)\n"
          ],
          "name": "stdout"
        }
      ]
    },
    {
      "cell_type": "code",
      "metadata": {
        "colab": {
          "base_uri": "https://localhost:8080/"
        },
        "id": "_q9XJB8xxjru",
        "outputId": "e3d60b8e-cbb7-4e6d-af6f-e6255ac2e9b4"
      },
      "source": [
        "pip install twython"
      ],
      "execution_count": null,
      "outputs": [
        {
          "output_type": "stream",
          "text": [
            "Collecting twython\n",
            "  Downloading https://files.pythonhosted.org/packages/24/80/579b96dfaa9b536efde883d4f0df7ea2598a6f3117a6dd572787f4a2bcfb/twython-3.8.2-py3-none-any.whl\n",
            "Requirement already satisfied: requests>=2.1.0 in /usr/local/lib/python3.7/dist-packages (from twython) (2.23.0)\n",
            "Requirement already satisfied: requests-oauthlib>=0.4.0 in /usr/local/lib/python3.7/dist-packages (from twython) (1.3.0)\n",
            "Requirement already satisfied: urllib3!=1.25.0,!=1.25.1,<1.26,>=1.21.1 in /usr/local/lib/python3.7/dist-packages (from requests>=2.1.0->twython) (1.24.3)\n",
            "Requirement already satisfied: certifi>=2017.4.17 in /usr/local/lib/python3.7/dist-packages (from requests>=2.1.0->twython) (2020.12.5)\n",
            "Requirement already satisfied: idna<3,>=2.5 in /usr/local/lib/python3.7/dist-packages (from requests>=2.1.0->twython) (2.10)\n",
            "Requirement already satisfied: chardet<4,>=3.0.2 in /usr/local/lib/python3.7/dist-packages (from requests>=2.1.0->twython) (3.0.4)\n",
            "Requirement already satisfied: oauthlib>=3.0.0 in /usr/local/lib/python3.7/dist-packages (from requests-oauthlib>=0.4.0->twython) (3.1.0)\n",
            "Installing collected packages: twython\n",
            "Successfully installed twython-3.8.2\n"
          ],
          "name": "stdout"
        }
      ]
    },
    {
      "cell_type": "code",
      "metadata": {
        "id": "kPv2MxlpXWmW"
      },
      "source": [
        "#@title \n",
        "consumer_key        = ''\n",
        "consumer_secret     = ''\n",
        "access_token        = ''\n",
        "access_token_secret = ''"
      ],
      "execution_count": null,
      "outputs": []
    },
    {
      "cell_type": "code",
      "metadata": {
        "id": "KBCXHDawG0zL",
        "colab": {
          "base_uri": "https://localhost:8080/"
        },
        "outputId": "c655cc31-0014-4cae-b888-182893a802a8"
      },
      "source": [
        "import markovify\n",
        "from twython import Twython\n",
        "\n",
        "#sync with twitter\n",
        "twitter = Twython(\n",
        "    consumer_key,\n",
        "    consumer_secret,\n",
        "    access_token,\n",
        "    access_token_secret\n",
        ")\n",
        "\n",
        "#mount drive to access song lyrics\n",
        "from google.colab import drive\n",
        "drive.mount('/content/drive')\n",
        "\n",
        "#open and store song lyrics\n",
        "text = open(\"/content/drive/MyDrive/Rolling Stones Lyrics.txt\")\n",
        "\n",
        "# Build the model.\n",
        "text_model = markovify.Text(text, state_size= 2)\n",
        "\n",
        "#generates # of lyric lines passed in \"lines\"\n",
        "#returns generated lyrics as string\n",
        "def generateLyrics(lines, string):\n",
        "  for i in range(lines):\n",
        "    string += (text_model.make_short_sentence(350) + '\\n')\n",
        "  return string\n",
        "\n",
        "#Generates lyrics and adds hasstags\n",
        "#returns and prints tweet\n",
        "def makeTweet():\n",
        "  message = \"\"\n",
        "  message = generateLyrics(5, message)\n",
        "  #twitter.update_status(status=message)\n",
        "  message += \"#RollingStones #ClassicRock\"\n",
        "  print(\"Tweet will read: %s\" % message)\n",
        "  return message"
      ],
      "execution_count": null,
      "outputs": [
        {
          "output_type": "stream",
          "text": [
            "Mounted at /content/drive\n"
          ],
          "name": "stdout"
        }
      ]
    },
    {
      "cell_type": "code",
      "metadata": {
        "colab": {
          "base_uri": "https://localhost:8080/"
        },
        "id": "RUc5AsSHgYk1",
        "outputId": "d6220a50-60e4-4abc-d392-37ad1f655c22"
      },
      "source": [
        "#Create new tweet\n",
        "tweet = makeTweet()\n",
        "\n",
        "#publish tweet if good lyrics are generated\n",
        "print(\"do you want to publsih this tweet? (y/n)\")\n",
        "publish = input()\n",
        "if publish == \"y\":\n",
        "  twitter.update_status(status=tweet)\n",
        "  print(\"Tweet published\")"
      ],
      "execution_count": null,
      "outputs": [
        {
          "output_type": "stream",
          "text": [
            "Tweet will read: A glass of wine in her skull was burning like coals\n",
            "Well, I am just a monkey woman too, babe\n",
            "I salivate like a black girl should\n",
            "I want is you to make love to play the blues\n",
            "At her feet was a tent show queen\n",
            "#RollingStones #ClassicRock\n",
            "do you want to publsih this tweet? (y/n)\n",
            "y\n",
            "Tweet published\n"
          ],
          "name": "stdout"
        }
      ]
    }
  ]
}